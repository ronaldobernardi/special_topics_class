{
 "cells": [
  {
   "cell_type": "markdown",
   "metadata": {
    "colab_type": "text",
    "id": "xHnBzrpCkEBy"
   },
   "source": [
    "## Special Topics - Pytorch\n",
    "\n",
    "#### Prof. Thomas da Silva Paula"
   ]
  },
  {
   "cell_type": "markdown",
   "metadata": {
    "colab_type": "text",
    "id": "NWoWsgwYkMVF"
   },
   "source": [
    "### Image classification example\n",
    "\n",
    "* Using Pytorch\n",
    "* Creating our own CNN\n",
    "* Using CIFAR10 dataset"
   ]
  },
  {
   "cell_type": "markdown",
   "metadata": {
    "colab_type": "text",
    "id": "qzQdGJAekVo8"
   },
   "source": [
    "## Imports"
   ]
  },
  {
   "cell_type": "code",
   "execution_count": 1,
   "metadata": {
    "colab": {},
    "colab_type": "code",
    "id": "-bAL-SVxcx3u"
   },
   "outputs": [],
   "source": [
    "import time\n",
    "\n",
    "import torch\n",
    "import numpy as np\n",
    "from PIL import Image\n",
    "\n",
    "import matplotlib.pyplot as plt\n",
    "\n",
    "import torch.nn as nn\n",
    "import torch.optim as optim\n",
    "import torch.nn.functional as F\n",
    "from torch.utils.data import DataLoader\n",
    "\n",
    "from torchvision import utils\n",
    "from torchvision.datasets import CIFAR10\n",
    "import torchvision.transforms as transforms"
   ]
  },
  {
   "cell_type": "markdown",
   "metadata": {
    "colab_type": "text",
    "id": "8-7m0zaHkYNG"
   },
   "source": [
    "## Definition of our CNN"
   ]
  },
  {
   "cell_type": "code",
   "execution_count": 9,
   "metadata": {
    "colab": {},
    "colab_type": "code",
    "id": "rI9TkOZCcsAX"
   },
   "outputs": [],
   "source": [
    "DATASET_PATH = '../../datasets/'\n",
    "CLASSES = ('plane', 'car', 'bird', 'cat',\n",
    "           'deer', 'dog', 'frog', 'horse',\n",
    "           'ship', 'truck')\n",
    "\n",
    "\n",
    "class SimpleCNNModel(nn.Module):\n",
    "\n",
    "    def __init__(self):\n",
    "        super(SimpleCNNModel, self).__init__()\n",
    "        self.conv1 = nn.Conv2d(3, 12, 5)\n",
    "        self.pool = nn.MaxPool2d(2, 2)\n",
    "        self.conv2 = nn.Conv2d(12, 32, 5)\n",
    "        self.fc1 = nn.Linear(32 * 5 * 5, 120)\n",
    "        self.fc2 = nn.Linear(120, 84)\n",
    "        self.fc3 = nn.Linear(84, 10)\n",
    "\n",
    "    def forward(self, x):\n",
    "        x = self.pool(F.relu(self.conv1(x)))\n",
    "        x = self.pool(F.relu(self.conv2(x)))\n",
    "        x = x.view(-1, 32 * 5 * 5)\n",
    "        x = F.relu(self.fc1(x))\n",
    "        x = F.relu(self.fc2(x))\n",
    "        x = self.fc3(x)\n",
    "        return x"
   ]
  },
  {
   "cell_type": "markdown",
   "metadata": {
    "colab_type": "text",
    "id": "OdQuMmI3kfzp"
   },
   "source": [
    "## Data loading method"
   ]
  },
  {
   "cell_type": "code",
   "execution_count": 3,
   "metadata": {
    "colab": {},
    "colab_type": "code",
    "id": "nTMlEuevc8ve"
   },
   "outputs": [],
   "source": [
    "def get_data_loaders(batch_size):\n",
    "    transform = transforms.Compose([\n",
    "                                    transforms.RandomHorizontalFlip(),\n",
    "                                    transforms.ToTensor(),\n",
    "                                    transforms.Normalize((0.5, 0.5, 0.5), (0.5, 0.5, 0.5))\n",
    "                                  ])\n",
    "\n",
    "    train = CIFAR10(DATASET_PATH, train=True, download=True, transform=transform)\n",
    "    trainloader = DataLoader(train, batch_size=batch_size, shuffle=True, num_workers=2)\n",
    "\n",
    "    test = CIFAR10(DATASET_PATH, train=False, download=True, transform=transform)\n",
    "    testloader = DataLoader(test, batch_size=batch_size, shuffle=False, num_workers=2)\n",
    "\n",
    "    return trainloader, testloader"
   ]
  },
  {
   "cell_type": "markdown",
   "metadata": {
    "colab_type": "text",
    "id": "6_LmK4kqkmLI"
   },
   "source": [
    "## Training, Testing, and Evaluation methods"
   ]
  },
  {
   "cell_type": "code",
   "execution_count": 4,
   "metadata": {
    "colab": {},
    "colab_type": "code",
    "id": "34iZuJ9Oc_BK"
   },
   "outputs": [],
   "source": [
    "def train(model, train_loader, optimizer, criterion, epoch, device):\n",
    "    model.train()\n",
    "\n",
    "    total = 0\n",
    "    total_loss = 0.0\n",
    "    total_corrects = 0\n",
    "\n",
    "    for i, (inputs, labels) in enumerate(train_loader, 0):\n",
    "        inputs, labels = inputs.to(device), labels.to(device)\n",
    "\n",
    "        optimizer.zero_grad()\n",
    "        \n",
    "        outputs = model(inputs)\n",
    "        _, preds = torch.max(outputs, 1)\n",
    "        \n",
    "        loss = criterion(outputs, labels)\n",
    "        loss.backward()\n",
    "        optimizer.step()\n",
    "\n",
    "        total_loss += loss.item() * inputs.size(0)\n",
    "        total += labels.size(0)\n",
    "        total_corrects += (preds == labels).sum().item()\n",
    "\n",
    "    epoch_loss = total_loss / total\n",
    "    epoch_acc = total_corrects / total\n",
    "    print('Loss: %.3f Acc: %.3f' % (epoch_loss, epoch_acc))"
   ]
  },
  {
   "cell_type": "code",
   "execution_count": 5,
   "metadata": {
    "colab": {},
    "colab_type": "code",
    "id": "YhNzneaHdA54"
   },
   "outputs": [],
   "source": [
    "def test(model, test_loader, criterion, epoch, device):\n",
    "    model.eval()\n",
    "\n",
    "    total = 0\n",
    "    total_loss = 0.0\n",
    "    total_corrects = 0\n",
    "\n",
    "    with torch.no_grad():\n",
    "        for i, (inputs, labels) in enumerate(test_loader, 0):\n",
    "            inputs, labels = inputs.to(device), labels.to(device)\n",
    "\n",
    "            outputs = model(inputs)\n",
    "            _, preds = torch.max(outputs, 1)\n",
    "            \n",
    "            loss = criterion(outputs, labels)\n",
    "\n",
    "            total_loss += loss.item() * inputs.size(0)\n",
    "            total += labels.size(0)\n",
    "            total_corrects += (preds == labels).sum().item()\n",
    "\n",
    "    epoch_loss = total_loss / total\n",
    "    epoch_acc = total_corrects / total\n",
    "    print('Test Loss: %.3f Test Acc: %.3f' % (epoch_loss, epoch_acc))"
   ]
  },
  {
   "cell_type": "code",
   "execution_count": 6,
   "metadata": {
    "colab": {},
    "colab_type": "code",
    "id": "r5iHpgYjdCSW"
   },
   "outputs": [],
   "source": [
    "def do_evaluation(trained_model, testloader, device):\n",
    "    class_correct = list(0. for i in range(10))\n",
    "    class_total = list(0. for i in range(10))\n",
    "    \n",
    "    with torch.no_grad():\n",
    "        for data in testloader:\n",
    "            images, labels = data\n",
    "            images, labels = images.to(device), labels.to(device)\n",
    "            outputs = trained_model(images)\n",
    "            _, predicted = torch.max(outputs, 1)\n",
    "            c = (predicted == labels).squeeze()\n",
    "            \n",
    "            for i in range(len(labels)):\n",
    "                label = labels[i]\n",
    "                class_correct[label] += c[i].item()\n",
    "                class_total[label] += 1\n",
    "\n",
    "\n",
    "    for i in range(10):\n",
    "        print('Accuracy of %5s : %2d %%' % (CLASSES[i], 100 * class_correct[i] / class_total[i]))"
   ]
  },
  {
   "cell_type": "markdown",
   "metadata": {
    "colab_type": "text",
    "id": "XwM6TPvFktLa"
   },
   "source": [
    "## Training"
   ]
  },
  {
   "cell_type": "code",
   "execution_count": 7,
   "metadata": {
    "colab": {
     "base_uri": "https://localhost:8080/",
     "height": 34
    },
    "colab_type": "code",
    "executionInfo": {
     "elapsed": 791,
     "status": "ok",
     "timestamp": 1557872870101,
     "user": {
      "displayName": "Thomas da Silva Paula",
      "photoUrl": "https://lh3.googleusercontent.com/-thLHZLEQ3UA/AAAAAAAAAAI/AAAAAAAADvs/P8X_T8Bclqk/s64/photo.jpg",
      "userId": "04301567501049617182"
     },
     "user_tz": 180
    },
    "id": "qNTCnWBUdDtl",
    "outputId": "0e77ab30-2093-4689-cfec-7c8d1ec35733"
   },
   "outputs": [
    {
     "name": "stdout",
     "output_type": "stream",
     "text": [
      "cpu\n"
     ]
    }
   ],
   "source": [
    "device = torch.device('cuda:0' if torch.cuda.is_available() else 'cpu')\n",
    "print(device)"
   ]
  },
  {
   "cell_type": "code",
   "execution_count": 10,
   "metadata": {
    "colab": {
     "base_uri": "https://localhost:8080/",
     "height": 51
    },
    "colab_type": "code",
    "executionInfo": {
     "elapsed": 19918,
     "status": "ok",
     "timestamp": 1557872919707,
     "user": {
      "displayName": "Thomas da Silva Paula",
      "photoUrl": "https://lh3.googleusercontent.com/-thLHZLEQ3UA/AAAAAAAAAAI/AAAAAAAADvs/P8X_T8Bclqk/s64/photo.jpg",
      "userId": "04301567501049617182"
     },
     "user_tz": 180
    },
    "id": "fAjWoj-bdYVn",
    "outputId": "c5b5b225-f6e7-4298-f6f5-72e95ee16366"
   },
   "outputs": [
    {
     "name": "stdout",
     "output_type": "stream",
     "text": [
      "Downloading https://www.cs.toronto.edu/~kriz/cifar-10-python.tar.gz to ../../datasets/cifar-10-python.tar.gz\n",
      "Files already downloaded and verified\n"
     ]
    }
   ],
   "source": [
    "batch_size = 32\n",
    "train_loader, test_loader = get_data_loaders(batch_size=32)"
   ]
  },
  {
   "cell_type": "code",
   "execution_count": 11,
   "metadata": {
    "colab": {
     "base_uri": "https://localhost:8080/",
     "height": 34
    },
    "colab_type": "code",
    "executionInfo": {
     "elapsed": 667,
     "status": "ok",
     "timestamp": 1557874195643,
     "user": {
      "displayName": "Thomas da Silva Paula",
      "photoUrl": "https://lh3.googleusercontent.com/-thLHZLEQ3UA/AAAAAAAAAAI/AAAAAAAADvs/P8X_T8Bclqk/s64/photo.jpg",
      "userId": "04301567501049617182"
     },
     "user_tz": 180
    },
    "id": "8QVLyw9aiQdK",
    "outputId": "5e11ac67-73cc-4114-b69c-7f3c8326f75e"
   },
   "outputs": [
    {
     "name": "stdout",
     "output_type": "stream",
     "text": [
      "torch.Size([32, 3, 32, 32]) torch.Size([32])\n"
     ]
    }
   ],
   "source": [
    "dataiter = iter(train_loader)\n",
    "images, labels = dataiter.next()\n",
    "\n",
    "print(images.shape, labels.shape)"
   ]
  },
  {
   "cell_type": "markdown",
   "metadata": {},
   "source": [
    "### Load trained model"
   ]
  },
  {
   "cell_type": "code",
   "execution_count": 15,
   "metadata": {},
   "outputs": [
    {
     "data": {
      "text/plain": [
       "SimpleCNNModel(\n",
       "  (conv1): Conv2d(3, 12, kernel_size=(5, 5), stride=(1, 1))\n",
       "  (pool): MaxPool2d(kernel_size=2, stride=2, padding=0, dilation=1, ceil_mode=False)\n",
       "  (conv2): Conv2d(12, 32, kernel_size=(5, 5), stride=(1, 1))\n",
       "  (fc1): Linear(in_features=800, out_features=120, bias=True)\n",
       "  (fc2): Linear(in_features=120, out_features=84, bias=True)\n",
       "  (fc3): Linear(in_features=84, out_features=10, bias=True)\n",
       ")"
      ]
     },
     "execution_count": 15,
     "metadata": {},
     "output_type": "execute_result"
    }
   ],
   "source": [
    "model = SimpleCNNModel()\n",
    "model.load_state_dict(torch.load('trained_model.pth', map_location='cpu'))\n",
    "model.eval()"
   ]
  },
  {
   "cell_type": "markdown",
   "metadata": {},
   "source": [
    "### Train from scratch"
   ]
  },
  {
   "cell_type": "code",
   "execution_count": 14,
   "metadata": {
    "colab": {
     "base_uri": "https://localhost:8080/",
     "height": 153
    },
    "colab_type": "code",
    "executionInfo": {
     "elapsed": 7364,
     "status": "ok",
     "timestamp": 1557872950405,
     "user": {
      "displayName": "Thomas da Silva Paula",
      "photoUrl": "https://lh3.googleusercontent.com/-thLHZLEQ3UA/AAAAAAAAAAI/AAAAAAAADvs/P8X_T8Bclqk/s64/photo.jpg",
      "userId": "04301567501049617182"
     },
     "user_tz": 180
    },
    "id": "7b4wF0ejdfhF",
    "outputId": "e898a1ce-4a5a-4208-ff42-df4d80d1959e"
   },
   "outputs": [
    {
     "name": "stdout",
     "output_type": "stream",
     "text": [
      "SimpleCNNModel(\n",
      "  (conv1): Conv2d(3, 12, kernel_size=(5, 5), stride=(1, 1))\n",
      "  (pool): MaxPool2d(kernel_size=2, stride=2, padding=0, dilation=1, ceil_mode=False)\n",
      "  (conv2): Conv2d(12, 32, kernel_size=(5, 5), stride=(1, 1))\n",
      "  (fc1): Linear(in_features=800, out_features=120, bias=True)\n",
      "  (fc2): Linear(in_features=120, out_features=84, bias=True)\n",
      "  (fc3): Linear(in_features=84, out_features=10, bias=True)\n",
      ")\n"
     ]
    }
   ],
   "source": [
    "model = SimpleCNNModel()\n",
    "model.to(device)\n",
    "print(model)"
   ]
  },
  {
   "cell_type": "code",
   "execution_count": 15,
   "metadata": {
    "colab": {
     "base_uri": "https://localhost:8080/",
     "height": 1734
    },
    "colab_type": "code",
    "executionInfo": {
     "elapsed": 277198,
     "status": "ok",
     "timestamp": 1557873243991,
     "user": {
      "displayName": "Thomas da Silva Paula",
      "photoUrl": "https://lh3.googleusercontent.com/-thLHZLEQ3UA/AAAAAAAAAAI/AAAAAAAADvs/P8X_T8Bclqk/s64/photo.jpg",
      "userId": "04301567501049617182"
     },
     "user_tz": 180
    },
    "id": "U9DIfcxvdqTp",
    "outputId": "a40acd1d-1dba-41d5-ac8f-b93a50309a5b"
   },
   "outputs": [
    {
     "name": "stdout",
     "output_type": "stream",
     "text": [
      "----------\n",
      "Epoch 0/19\n",
      "Loss: 2.146 Acc: 0.201\n",
      "Test Loss: 1.887 Test Acc: 0.299\n",
      "Took: 14s\n",
      "----------\n",
      "Epoch 1/19\n",
      "Loss: 1.729 Acc: 0.361\n",
      "Test Loss: 1.596 Test Acc: 0.419\n",
      "Took: 13s\n",
      "----------\n",
      "Epoch 2/19\n",
      "Loss: 1.525 Acc: 0.441\n",
      "Test Loss: 1.430 Test Acc: 0.476\n",
      "Took: 13s\n",
      "----------\n",
      "Epoch 3/19\n",
      "Loss: 1.391 Acc: 0.495\n",
      "Test Loss: 1.419 Test Acc: 0.488\n",
      "Took: 15s\n",
      "----------\n",
      "Epoch 4/19\n",
      "Loss: 1.293 Acc: 0.533\n",
      "Test Loss: 1.262 Test Acc: 0.552\n",
      "Took: 13s\n",
      "----------\n",
      "Epoch 5/19\n",
      "Loss: 1.196 Acc: 0.570\n",
      "Test Loss: 1.217 Test Acc: 0.578\n",
      "Took: 13s\n",
      "----------\n",
      "Epoch 6/19\n",
      "Loss: 1.126 Acc: 0.601\n",
      "Test Loss: 1.174 Test Acc: 0.573\n",
      "Took: 13s\n",
      "----------\n",
      "Epoch 7/19\n",
      "Loss: 1.067 Acc: 0.623\n",
      "Test Loss: 1.077 Test Acc: 0.626\n",
      "Took: 13s\n",
      "----------\n",
      "Epoch 8/19\n",
      "Loss: 1.018 Acc: 0.642\n",
      "Test Loss: 1.004 Test Acc: 0.648\n",
      "Took: 14s\n",
      "----------\n",
      "Epoch 9/19\n",
      "Loss: 0.976 Acc: 0.655\n",
      "Test Loss: 1.012 Test Acc: 0.647\n",
      "Took: 15s\n",
      "----------\n",
      "Epoch 10/19\n",
      "Loss: 0.939 Acc: 0.671\n",
      "Test Loss: 0.972 Test Acc: 0.664\n",
      "Took: 13s\n",
      "----------\n",
      "Epoch 11/19\n",
      "Loss: 0.907 Acc: 0.683\n",
      "Test Loss: 0.926 Test Acc: 0.677\n",
      "Took: 15s\n",
      "----------\n",
      "Epoch 12/19\n",
      "Loss: 0.876 Acc: 0.693\n",
      "Test Loss: 0.911 Test Acc: 0.683\n",
      "Took: 13s\n",
      "----------\n",
      "Epoch 13/19\n",
      "Loss: 0.844 Acc: 0.704\n",
      "Test Loss: 0.896 Test Acc: 0.685\n",
      "Took: 13s\n",
      "----------\n",
      "Epoch 14/19\n",
      "Loss: 0.820 Acc: 0.712\n",
      "Test Loss: 0.911 Test Acc: 0.680\n",
      "Took: 13s\n",
      "----------\n",
      "Epoch 15/19\n",
      "Loss: 0.795 Acc: 0.720\n",
      "Test Loss: 0.880 Test Acc: 0.691\n",
      "Took: 14s\n",
      "----------\n",
      "Epoch 16/19\n",
      "Loss: 0.769 Acc: 0.731\n",
      "Test Loss: 0.844 Test Acc: 0.709\n",
      "Took: 13s\n",
      "----------\n",
      "Epoch 17/19\n",
      "Loss: 0.749 Acc: 0.737\n",
      "Test Loss: 0.830 Test Acc: 0.716\n",
      "Took: 13s\n",
      "----------\n",
      "Epoch 18/19\n",
      "Loss: 0.730 Acc: 0.744\n",
      "Test Loss: 0.821 Test Acc: 0.712\n",
      "Took: 13s\n",
      "----------\n",
      "Epoch 19/19\n",
      "Loss: 0.710 Acc: 0.752\n",
      "Test Loss: 0.826 Test Acc: 0.715\n",
      "Took: 13s\n",
      "Finished training. Took 276s (13s per epoch)\n"
     ]
    }
   ],
   "source": [
    "total_time = []\n",
    "num_epochs = 20\n",
    "criterion = nn.CrossEntropyLoss()\n",
    "optimizer = optim.SGD(model.parameters(), lr=0.001, momentum=0.9)\n",
    "\n",
    "for epoch in range(num_epochs):\n",
    "    print('-' * 10)\n",
    "    print('Epoch {}/{}'.format(epoch, num_epochs - 1))\n",
    "    start_time = time.time()\n",
    "\n",
    "    train(model, train_loader, optimizer, criterion, epoch, device)\n",
    "    test(model, test_loader, criterion, epoch, device)\n",
    "\n",
    "    end_time = time.time() - start_time\n",
    "    print('Took: %2ds' % (end_time))\n",
    "    total_time.append(end_time)\n",
    "\n",
    "\n",
    "print('Finished training. Took %2ds (%2ds per epoch)' % (np.sum(total_time), np.mean(total_time)))"
   ]
  },
  {
   "cell_type": "markdown",
   "metadata": {
    "colab_type": "text",
    "id": "7oxzS-j4kv5e"
   },
   "source": [
    "## Evaluation"
   ]
  },
  {
   "cell_type": "code",
   "execution_count": 16,
   "metadata": {
    "colab": {
     "base_uri": "https://localhost:8080/",
     "height": 204
    },
    "colab_type": "code",
    "executionInfo": {
     "elapsed": 3197,
     "status": "ok",
     "timestamp": 1557874979078,
     "user": {
      "displayName": "Thomas da Silva Paula",
      "photoUrl": "https://lh3.googleusercontent.com/-thLHZLEQ3UA/AAAAAAAAAAI/AAAAAAAADvs/P8X_T8Bclqk/s64/photo.jpg",
      "userId": "04301567501049617182"
     },
     "user_tz": 180
    },
    "id": "aP2hFki3fShN",
    "outputId": "3dbd784d-347b-47f3-909f-3d095e6e59a8"
   },
   "outputs": [
    {
     "name": "stdout",
     "output_type": "stream",
     "text": [
      "Starting evaluation - Test\n",
      "Accuracy of plane : 70 %\n",
      "Accuracy of   car : 82 %\n",
      "Accuracy of  bird : 57 %\n",
      "Accuracy of   cat : 54 %\n",
      "Accuracy of  deer : 58 %\n",
      "Accuracy of   dog : 65 %\n",
      "Accuracy of  frog : 82 %\n",
      "Accuracy of horse : 71 %\n",
      "Accuracy of  ship : 86 %\n",
      "Accuracy of truck : 85 %\n"
     ]
    }
   ],
   "source": [
    "print('Starting evaluation - Test')\n",
    "do_evaluation(model, test_loader, device)"
   ]
  },
  {
   "cell_type": "markdown",
   "metadata": {
    "colab_type": "text",
    "id": "D5MpEQJsllLm"
   },
   "source": [
    "## Saving trained model"
   ]
  },
  {
   "cell_type": "code",
   "execution_count": 0,
   "metadata": {
    "colab": {},
    "colab_type": "code",
    "id": "OS45_BgXloAM"
   },
   "outputs": [],
   "source": [
    "torch.save(model.state_dict(), 'trained_model.pth')"
   ]
  },
  {
   "cell_type": "markdown",
   "metadata": {
    "colab_type": "text",
    "id": "bhEWW6-wl5IZ"
   },
   "source": [
    "### Downloading our model"
   ]
  },
  {
   "cell_type": "code",
   "execution_count": 0,
   "metadata": {
    "colab": {},
    "colab_type": "code",
    "id": "iQGonyP7lyNJ"
   },
   "outputs": [],
   "source": [
    "from google.colab import files\n",
    "\n",
    "files.download('trained_model.pth')"
   ]
  },
  {
   "cell_type": "markdown",
   "metadata": {
    "colab_type": "text",
    "id": "TxaNqtdhjEc9"
   },
   "source": [
    "## Testing with an image"
   ]
  },
  {
   "cell_type": "code",
   "execution_count": 56,
   "metadata": {
    "colab": {
     "base_uri": "https://localhost:8080/",
     "height": 257
    },
    "colab_type": "code",
    "executionInfo": {
     "elapsed": 804,
     "status": "ok",
     "timestamp": 1557874917016,
     "user": {
      "displayName": "Thomas da Silva Paula",
      "photoUrl": "https://lh3.googleusercontent.com/-thLHZLEQ3UA/AAAAAAAAAAI/AAAAAAAADvs/P8X_T8Bclqk/s64/photo.jpg",
      "userId": "04301567501049617182"
     },
     "user_tz": 180
    },
    "id": "jDcaNVoNlKLw",
    "outputId": "1ca42acb-1af6-41a7-8a68-d3af9ea6bb3a"
   },
   "outputs": [
    {
     "data": {
      "text/plain": [
       "<matplotlib.image.AxesImage at 0x7f23e037a080>"
      ]
     },
     "execution_count": 56,
     "metadata": {},
     "output_type": "execute_result"
    },
    {
     "data": {
      "image/png": "[encoded data removed]",
      "text/plain": [
       "<Figure size 432x288 with 1 Axes>"
      ]
     },
     "metadata": {
      "needs_background": "light"
     },
     "output_type": "display_data"
    }
   ],
   "source": [
    "img = Image.open('../../sample_images/frog.jpg')\n",
    "plt.imshow(img)"
   ]
  },
  {
   "cell_type": "markdown",
   "metadata": {
    "colab_type": "text",
    "id": "_Yl2MsMjjKeC"
   },
   "source": [
    "Always apply the same preprocessing steps"
   ]
  },
  {
   "cell_type": "code",
   "execution_count": 57,
   "metadata": {
    "colab": {},
    "colab_type": "code",
    "id": "WK816N2BgOPM"
   },
   "outputs": [],
   "source": [
    "transform = transforms.Compose([\n",
    "                                transforms.Resize((32, 32)),\n",
    "                                transforms.ToTensor(),\n",
    "                                transforms.Normalize((0.5, 0.5, 0.5), (0.5, 0.5, 0.5))\n",
    "                               ])"
   ]
  },
  {
   "cell_type": "markdown",
   "metadata": {
    "colab_type": "text",
    "id": "bI_ZnbV1jOuM"
   },
   "source": [
    "Always check the shapes"
   ]
  },
  {
   "cell_type": "code",
   "execution_count": 58,
   "metadata": {
    "colab": {
     "base_uri": "https://localhost:8080/",
     "height": 34
    },
    "colab_type": "code",
    "executionInfo": {
     "elapsed": 659,
     "status": "ok",
     "timestamp": 1557874944590,
     "user": {
      "displayName": "Thomas da Silva Paula",
      "photoUrl": "https://lh3.googleusercontent.com/-thLHZLEQ3UA/AAAAAAAAAAI/AAAAAAAADvs/P8X_T8Bclqk/s64/photo.jpg",
      "userId": "04301567501049617182"
     },
     "user_tz": 180
    },
    "id": "wYnaey7bg-4f",
    "outputId": "fb1da8b0-4059-4b56-c53a-5106db2ba6dd"
   },
   "outputs": [
    {
     "name": "stdout",
     "output_type": "stream",
     "text": [
      "torch.Size([3, 32, 32])\n"
     ]
    }
   ],
   "source": [
    "img_preprocessed = transform(img)\n",
    "print(img_preprocessed.shape)"
   ]
  },
  {
   "cell_type": "markdown",
   "metadata": {
    "colab_type": "text",
    "id": "5oNFuQs6jnVu"
   },
   "source": [
    "Expand the dimensions"
   ]
  },
  {
   "cell_type": "code",
   "execution_count": 59,
   "metadata": {
    "colab": {
     "base_uri": "https://localhost:8080/",
     "height": 34
    },
    "colab_type": "code",
    "executionInfo": {
     "elapsed": 659,
     "status": "ok",
     "timestamp": 1557874946823,
     "user": {
      "displayName": "Thomas da Silva Paula",
      "photoUrl": "https://lh3.googleusercontent.com/-thLHZLEQ3UA/AAAAAAAAAAI/AAAAAAAADvs/P8X_T8Bclqk/s64/photo.jpg",
      "userId": "04301567501049617182"
     },
     "user_tz": 180
    },
    "id": "SQuuN9DrhHJ6",
    "outputId": "ef9a2aee-755a-4a41-e663-d4248f0b05a1"
   },
   "outputs": [
    {
     "name": "stdout",
     "output_type": "stream",
     "text": [
      "torch.Size([1, 3, 32, 32]) torch.float32\n"
     ]
    }
   ],
   "source": [
    "img_preprocessed.unsqueeze_(0)\n",
    "print(img_preprocessed.shape, img_preprocessed.dtype)"
   ]
  },
  {
   "cell_type": "markdown",
   "metadata": {
    "colab_type": "text",
    "id": "dzSnmGWijvHP"
   },
   "source": [
    "Copy to the correct device"
   ]
  },
  {
   "cell_type": "code",
   "execution_count": 60,
   "metadata": {
    "colab": {},
    "colab_type": "code",
    "id": "LYNPqvv7hxdV"
   },
   "outputs": [],
   "source": [
    "img_preprocessed = img_preprocessed.to(device)"
   ]
  },
  {
   "cell_type": "markdown",
   "metadata": {
    "colab_type": "text",
    "id": "E45nL14nj2lx"
   },
   "source": [
    "Do the prediction"
   ]
  },
  {
   "cell_type": "code",
   "execution_count": 61,
   "metadata": {
    "colab": {
     "base_uri": "https://localhost:8080/",
     "height": 51
    },
    "colab_type": "code",
    "executionInfo": {
     "elapsed": 608,
     "status": "ok",
     "timestamp": 1557874948348,
     "user": {
      "displayName": "Thomas da Silva Paula",
      "photoUrl": "https://lh3.googleusercontent.com/-thLHZLEQ3UA/AAAAAAAAAAI/AAAAAAAADvs/P8X_T8Bclqk/s64/photo.jpg",
      "userId": "04301567501049617182"
     },
     "user_tz": 180
    },
    "id": "HFc4lyYDgCuH",
    "outputId": "596eabbe-e5dc-4214-ded8-a48817d0a3b6"
   },
   "outputs": [
    {
     "name": "stdout",
     "output_type": "stream",
     "text": [
      "tensor([[-0.9735, -2.3080,  1.4112,  3.1397, -0.5170,  2.2344,  4.5816, -0.9927,\n",
      "         -3.4881,  0.2919]], grad_fn=<AddmmBackward>)\n"
     ]
    }
   ],
   "source": [
    "model.eval()\n",
    "output = model(img_preprocessed)\n",
    "print(output)"
   ]
  },
  {
   "cell_type": "code",
   "execution_count": 62,
   "metadata": {
    "colab": {
     "base_uri": "https://localhost:8080/",
     "height": 34
    },
    "colab_type": "code",
    "executionInfo": {
     "elapsed": 641,
     "status": "ok",
     "timestamp": 1557874950911,
     "user": {
      "displayName": "Thomas da Silva Paula",
      "photoUrl": "https://lh3.googleusercontent.com/-thLHZLEQ3UA/AAAAAAAAAAI/AAAAAAAADvs/P8X_T8Bclqk/s64/photo.jpg",
      "userId": "04301567501049617182"
     },
     "user_tz": 180
    },
    "id": "wgX1EpBziuAW",
    "outputId": "fca9fb3d-59c6-4a42-f1d0-26a7b4bdb4df"
   },
   "outputs": [
    {
     "name": "stdout",
     "output_type": "stream",
     "text": [
      "Class:  frog\n"
     ]
    }
   ],
   "source": [
    "_, predicted = torch.max(output, 1)\n",
    "print('Class: ', CLASSES[predicted])"
   ]
  }
 ],
 "metadata": {
  "accelerator": "GPU",
  "colab": {
   "name": "Untitled0.ipynb",
   "provenance": [],
   "version": "0.3.2"
  },
  "kernelspec": {
   "display_name": "Python 3",
   "language": "python",
   "name": "python3"
  },
  "language_info": {
   "codemirror_mode": {
    "name": "ipython",
    "version": 3
   },
   "file_extension": ".py",
   "mimetype": "text/x-python",
   "name": "python",
   "nbconvert_exporter": "python",
   "pygments_lexer": "ipython3",
   "version": "3.6.6"
  }
 },
 "nbformat": 4,
 "nbformat_minor": 1
}
