{
 "cells": [
  {
   "cell_type": "markdown",
   "metadata": {},
   "source": [
    "## Special Topics - Introduction to Deep Learning\n",
    "\n",
    "#### Prof. Thomas da Silva Paula"
   ]
  },
  {
   "cell_type": "markdown",
   "metadata": {},
   "source": [
    "## Feature extraction and classification\n",
    "\n",
    "Como vimos em aula, podemos utilizar as redes neurais convolucionais pré-treinadas como um extrator de features (`feature extraction`). Isso nos ajuda muito em diversos casos, como quando temos uma base de imagens pequena e queremos utilizar modelos estado-da-arte para obter melhores resultados. Além do processo de `fine tuning`, onde podemos adicionar uma camada no final da CNN e treinar apenas tal camada em novos dados, podemos utilizar então a CNN para extrair features das imagens da nossa base de dados e utilizar tais features para treinar novos modelos. Neste trabalho, iremos exercitar a parte de extração de features e posterior treinamento de diferentes modelos, realizando tarefas muito similares às que Cientistas de Dados fazem no seu dia-a-dia.\n",
    "\n",
    "\n",
    "### Descrição\n",
    "\n",
    "Este trabalho vai exercitar conhecimentos adquiridos nesta disciplina e em disciplinas anteriores. **Leia com atenção** todos os itens e pergunte ao professor caso tenha qualquer dúvida.\n",
    "\n",
    "#### Base de dados\n",
    "A base de dados a ser utilizada é a `natural_images_100`, disponível neste mesmo repositório (e também no Google Drive - https://drive.google.com/open?id=1Bqg5z0bWClkz3x8lS1mVSh1J0pewgDnj ). Essa base de imagens contém 800 imagens divididas em 8 classes diferentes, onde cada classe possui 100 imagens. A primeira parte do trabalho consiste na implementação de uma função Python para ler as imagens dos diretórios e montar uma lista (ou Numpy array) no formato `(nome_da_pasta, caminho_da_imagem)`.\n",
    "\n",
    "```python\n",
    "def read_images_from_folders(dataset_path):\n",
    "    # sua implementação aqui\n",
    "    return dataset_images\n",
    "```\n",
    "\n",
    "#### Feature extraction\n",
    "Após realizar a criação do método de feature extraction, deve ser implementada a rotina de extração de features. Deverá ser utilizada a rede `MobileNet`, pré-treinada no ImageNet, disponível no Keras. Tenha atenção no pré-processamento das imagens antes de fazer a extração de features, uma vez que os **mesmo passos de pré-processamento** utilizados na `MobileNet` devem ser utilizados (caso tenha dúvidas, revise os notebooks da aula, no exemplo da `VGG-16`). Para a utilização deste modelo, devem ser utilizados os parâmetros `weights='imagenet'`, `include_top=False`, `pooling='avg'` e `alpha=0.5`, conforme segue\n",
    "\n",
    "```python\n",
    "from keras.applications.mobilenet import MobileNet\n",
    "model = MobileNet(weights='imagenet', include_top=False, pooling='avg', alpha=0.5)\n",
    "```\n",
    "\n",
    "Para facilitar o que virá a seguir, tente gerar uma nova lista (ou Numpy array) no formato `(nome_da_pasta, caminho_da_imagem, features)`. Lembre também de revisar os shapes dos arrays para ter certeza de que as features extraídas tem o tamanho esperado.\n",
    "\n",
    "```python\n",
    "def extract_features(img_path, model):\n",
    "    # sua implementação aqui\n",
    "    return features\n",
    "```\n",
    "\n",
    "#### Treinamento de classificadores\n",
    "Após a criação da base de dados no passo anterior, é necessário então realizar o treinamento de diferentes modelos de classificação. Você deve escolher ao menos dois classificadores para realizar o treinamento, como por exemplo SVM, Logistic Regression, Decision Tree, K-NN, entre outros. Além disso, para este treinamento devem ser utilizadas 70% das imagens para treino e as outras 30% para teste. Para isso, utilize o método `train_test_split` do scikit-learn.\n",
    "\n",
    "#### Comparação dos classificadores\n",
    "Para comparação do desempenho dos diferentes classificadores, você deve utilizar três coisas: o valor de acurácia no treino e no teste, o classification report e a matriz de confusão (o scikit-learn possui métodos para auxiliar nessas tarefas). Caso tenha dúvidas, consulte os notebooks das aulas anteriores que mostram exemplos de como realizar algumas dessas tarefas.\n",
    "\n",
    "#### Execução de predição\n",
    "Após realizar as comparações dos diferentes classificadores, você deve escolher algumas imagens (mínimo 2 por classe) disponíveis na web que pertençam as classes da base de dados e realizar a classificação delas. Lembre-se que para isso você deverá carregar a imagem, extrair as features e ai sim utilizar as features como entrada no seu classificador.\n",
    "\n",
    "![title](car_prediction_example.png)\n",
    "\n",
    "### Requisitos\n",
    "* Implementar rotina de leitura das pastas e carregamento das imagens.\n",
    "* Implementar rotina de extração de features utilizando a rede `MobileNet`, treinada no ImageNet e disponível no framework Keras.\n",
    "* Escolher dois algoritmos diferentes de classificação. Podem ser utilizados quaisquer algoritmos de classificação neste exercício, com exceção de redes neurais.\n",
    "* Escolher e implementar os dois algoritmos usando a biblioteca scikit-learn. Experimentar diferentes hiperpârametros dos algoritmos (pode-se implementar uma busca de hiperparâmetros, caso ache adequado).\n",
    "* Implementar comparação dos diferentes classificadores. Para isso, separar a base de dados em treino e teste, sendo 70% treino e 30% teste. Mostrar os resultados dos classificadores no conjunto de teste utilizando a métrica acurácia, o classification report do scikit-learn e \"plotar\" a matriz de confusão.\n",
    "* Implementar uma rotina que faça a predição com o melhor classificador treinado de cada algoritmo escolhido. Você deve escolher algumas imagens disponíveis na web e realizar a classificação.\n",
    "* A partir dos experimentos realizados, deve-se escrever um relatório detalhando as escolhas feitas, os experimentos realizados e, principalmente, o aprendizado. Os diferentes hiperparâmetros utilizados (e.g. $C$ do SVM) em diferentes experimentos não precisam ser todos colocados, porém o racional para ter chegado em tais valores deve ficar claro (o que implica em explicar por onde começou). É importante colocar os desafios e dificuldades enfrentadas.\n",
    "* Deve ficar claro no relatório qual algoritmo você acha que foi melhor e porquê. O importante é executar a tarefa pensando em mostrar para alguma pessoa o seu raciocínio para entender qual o melhor algoritmo.\n",
    "* Após realizar as comparações dos diferentes classificadores, você deve escolher algumas imagens (mínimo 2 por classe) disponíveis na web que pertençam as classes da base de dados e realizar a classificação delas.\n",
    "* Após realizar todos os experimentos, faça um teste aumentando o `alpha` para `0.75` e depois para `1.0`, repetindo a rotina de extração de features e o treinamento de um dos seus modelos. O que você pode observar?\n",
    "\n",
    "### Extras \n",
    "Para os que gostariam de ir além do trabalho, seguem dois itens extras para explorar. Cada item extra vale 0,5 a mais na nota final do trabalho.\n",
    "* **(Extra 1)**: Faça experimentos com alguma outra rede (ResNet50, Inception v3). Utilizando as features dessa rede e treinando o seu melhor classificador, os resultados ficaram iguais?\n",
    "* **(Extra 2)**: Experimente utilizar alguma abordagem de agrupamento de dados em função apenas das features. O melhor agrupamento de dados tem o mesmo número de classes?\n",
    "\n",
    "### Entrega final\n",
    "* Jupyter notebook com os experimentos realizados (.ipynb e um .html ou .pdf).\n",
    "* Relatório em formato .pdf com os resultados e conclusões. Caso prefira, os resultados e conclusões podem ser colocados diretamente no Jupyter notebook, desde que fique bem explicado e claro."
   ]
  },
  {
   "cell_type": "code",
   "execution_count": 2,
   "metadata": {},
   "outputs": [],
   "source": [
    "### Seu código começa aqui :)"
   ]
  }
 ],
 "metadata": {
  "kernelspec": {
   "display_name": "Python 3",
   "language": "python",
   "name": "python3"
  },
  "language_info": {
   "codemirror_mode": {
    "name": "ipython",
    "version": 3
   },
   "file_extension": ".py",
   "mimetype": "text/x-python",
   "name": "python",
   "nbconvert_exporter": "python",
   "pygments_lexer": "ipython3",
   "version": "3.6.6"
  }
 },
 "nbformat": 4,
 "nbformat_minor": 2
}
